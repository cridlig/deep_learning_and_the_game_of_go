{
 "cells": [
  {
   "cell_type": "code",
   "execution_count": null,
   "metadata": {},
   "outputs": [],
   "source": [
    "import numpy as np\n",
    "\n",
    "np.random.seed(123)\n",
    "X = np.load('../generated_games/features-40k.npy')\n",
    "Y = np.load('../generated_games/labels-40k.npy')\n",
    "print(\"features\", X.shape)\n",
    "print(\"labels\", Y.shape)\n",
    "\n",
    "samples = X.shape[0]\n",
    "size = 9\n",
    "input_shape = (size, size, 1)\n",
    "\n",
    "X = X.reshape(samples, size, size, 1)\n",
    "\n",
    "train_samples = int(0.9 * samples)\n",
    "X_train, X_test = X[:train_samples], X[train_samples:]\n",
    "Y_train, Y_test = Y[:train_samples], Y[train_samples:]\n",
    "print(\"X_train\", X_train.shape)\n",
    "print(\"Y_train\", Y_train.shape)\n",
    "print(\"X_test\", X_test.shape)\n",
    "print(\"Y_test\", Y_test.shape)"
   ]
  },
  {
   "cell_type": "code",
   "execution_count": null,
   "metadata": {},
   "outputs": [],
   "source": [
    "from keras.models import Sequential\n",
    "from keras.layers import Dense, Dropout, Flatten\n",
    "from keras.layers import Conv2D, MaxPooling2D\n",
    "from keras.layers import Input\n",
    "\n",
    "model = Sequential()\n",
    "model.add(Input(shape=input_shape))\n",
    "model.add(Conv2D(filters=48,\n",
    "                 kernel_size=(3, 3),\n",
    "                 padding='same',\n",
    "                 activation='relu'))\n",
    "model.add(Dropout(rate=0.5))\n",
    "model.add(Conv2D(48, (3, 3),\n",
    "                 padding='same',\n",
    "                 activation='relu'))\n",
    "model.add(MaxPooling2D(pool_size=(2, 2)))\n",
    "model.add(Dropout(rate=0.5))\n",
    "model.add(Flatten()) \n",
    "model.add(Dense(512, activation='relu'))\n",
    "model.add(Dropout(rate=0.5))\n",
    "model.add(Dense(size * size, activation='softmax')) \n",
    "model.summary()"
   ]
  },
  {
   "cell_type": "code",
   "execution_count": null,
   "metadata": {},
   "outputs": [],
   "source": [
    "import time\n",
    "\n",
    "model.compile(loss='categorical_crossentropy',\n",
    "              optimizer='sgd',\n",
    "              metrics=['accuracy'])\n",
    "\n",
    "# Record the start time\n",
    "start_time = time.time()\n",
    "model.fit(X_train, Y_train,\n",
    "          batch_size=64,\n",
    "          epochs=200,\n",
    "          verbose=1,\n",
    "          validation_data=(X_test, Y_test))\n",
    "# Record the end time\n",
    "end_time = time.time()\n",
    "# Calculate and display the wall time\n",
    "print(f\"Wall time: {end_time - start_time:.6f} seconds\")\n",
    "\n",
    "score = model.evaluate(X_test, Y_test, verbose=0)\n",
    "print('Test loss:', score[0])\n",
    "print('Test accuracy:', score[1])"
   ]
  },
  {
   "cell_type": "code",
   "execution_count": null,
   "metadata": {},
   "outputs": [],
   "source": [
    "test_board = np.array([[\n",
    "    0, 0,  0,  0,  0, 0, 0, 0, 0,\n",
    "    0, 0,  0,  0,  0, 0, 0, 0, 0,\n",
    "    0, 0,  0,  0,  0, 0, 0, 0, 0,\n",
    "    0, 1, -1,  1, -1, 0, 0, 0, 0,\n",
    "    0, 1, -1,  1, -1, 0, 0, 0, 0,\n",
    "    0, 0,  1, -1,  0, 0, 0, 0, 0,\n",
    "    0, 0,  0,  0,  0, 0, 0, 0, 0,\n",
    "    0, 0,  0,  0,  0, 0, 0, 0, 0,\n",
    "    0, 0,  0,  0,  0, 0, 0, 0, 0,\n",
    "]]).reshape(1, 9, 9, 1)\n",
    "move_probs = model.predict(test_board)[0]\n",
    "i = 0\n",
    "for row in range(9):\n",
    "    row_formatted = []\n",
    "    for col in range(9):\n",
    "        row_formatted.append('{:.3f}'.format(move_probs[i]))\n",
    "        i += 1\n",
    "    print(' '.join(row_formatted))"
   ]
  },
  {
   "cell_type": "markdown",
   "metadata": {},
   "source": [
    "Starlight MacBook Air M2:\n",
    "> Wall time: 1366.246495 seconds\n",
    "\n",
    "> Test loss: 3.5951743125915527\n",
    "> Test accuracy: 0.13778957724571228\n",
    "\n",
    "MacBookPro M1 Pro:\n",
    "> Wall time: 1680.059903 seconds\n",
    "\n",
    "> Test loss: 3.5705721378326416\n",
    "> Test accuracy: 0.1546814739704132\n",
    "\n",
    "Seahawk Intel i7-4770 @ 3.4GHz AMD GPU:\n",
    "> Wall time: 2068.261235 seconds\n",
    "\n",
    "> Test loss: 3.589221715927124\n",
    "> Test accuracy: 0.144305020570755"
   ]
  }
 ],
 "metadata": {
  "kernelspec": {
   "display_name": "Python 3",
   "language": "python",
   "name": "python3"
  },
  "language_info": {
   "codemirror_mode": {
    "name": "ipython",
    "version": 3
   },
   "file_extension": ".py",
   "mimetype": "text/x-python",
   "name": "python",
   "nbconvert_exporter": "python",
   "pygments_lexer": "ipython3",
   "version": "3.10.12"
  }
 },
 "nbformat": 4,
 "nbformat_minor": 2
}
