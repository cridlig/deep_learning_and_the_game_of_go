{
 "cells": [
  {
   "cell_type": "code",
   "execution_count": 6,
   "metadata": {},
   "outputs": [
    {
     "name": "stdout",
     "output_type": "stream",
     "text": [
      "features (41439, 1, 9, 9)\n",
      "labels (41439, 81)\n"
     ]
    }
   ],
   "source": [
    "import numpy as np\n",
    "\n",
    "# Load the sample data into NumPy arrays\n",
    "features = np.load(\"../generated_games/features-40k.npy\")\n",
    "labels = np.load(\"../generated_games/labels-40k.npy\")\n",
    "\n",
    "print(\"features\", features.shape)\n",
    "print(\"labels\", labels.shape)"
   ]
  },
  {
   "cell_type": "code",
   "execution_count": 7,
   "metadata": {},
   "outputs": [],
   "source": [
    "# display a matrix of integers\n",
    "def print_matrix(matrix, cell_width=3):\n",
    "    for row in matrix:\n",
    "        print(\" \".join(f\"{int(cell):{cell_width}}\" for cell in row))"
   ]
  },
  {
   "cell_type": "code",
   "execution_count": 8,
   "metadata": {},
   "outputs": [
    {
     "name": "stdout",
     "output_type": "stream",
     "text": [
      "X[20]\n",
      "  0   0   0   0   0   0   0   0   0\n",
      "  0   0   0   0   0   0   0   0   0\n",
      "  0   0   0  -1  -1  -1   1   0   0\n",
      "  1  -1  -1   0  -1   1   1  -1   0\n",
      "  0   1   1   1   1  -1   1   0   0\n",
      "  0   0   0   1  -1  -1   0   1   0\n",
      "  0  -1   0   1   1  -1   0   0   0\n",
      "  0   0   0  -1  -1   1   0   0   0\n",
      "  0   0   0   0   0   0   0   0   0\n",
      "Y[20]\n",
      "  0   0   0   0   0   0   0   0   0\n",
      "  0   0   0   0   0   0   0   0   0\n",
      "  0   0   0   0   0   0   0   0   0\n",
      "  0   0   0   0   0   0   0   0   0\n",
      "  0   0   0   0   0   0   0   1   0\n",
      "  0   0   0   0   0   0   0   0   0\n",
      "  0   0   0   0   0   0   0   0   0\n",
      "  0   0   0   0   0   0   0   0   0\n",
      "  0   0   0   0   0   0   0   0   0\n",
      "X_train (37295, 81)\n",
      "Y_train (37295, 81)\n",
      "X_test (4144, 81)\n",
      "Y_test (4144, 81)\n"
     ]
    }
   ],
   "source": [
    "# By setting a random seed, you make sure this script is exactly reproducible.\n",
    "np.random.seed(123)\n",
    "\n",
    "X = features\n",
    "Y = labels\n",
    "samples = X.shape[0]\n",
    "board_size = 9 * 9\n",
    "X = X.reshape(samples, board_size)\n",
    "Y = Y.reshape(samples, board_size)\n",
    "print(\"X[20]\")\n",
    "print_matrix(X[20].reshape(9, 9))\n",
    "print(\"Y[20]\")\n",
    "print_matrix(Y[20].reshape(9, 9))\n",
    "\n",
    "# Transform the input into vectors of size 81, instead of 9 × 9 matrices.\n",
    "# Hold back 10% of the data for a test set; train on the other 90%.\n",
    "train_samples = int(0.9 * samples)\n",
    "X_train, X_test = X[:train_samples], X[train_samples:]\n",
    "Y_train, Y_test = Y[:train_samples], Y[train_samples:]\n",
    "print(\"X_train\", X_train.shape)\n",
    "print(\"Y_train\", Y_train.shape)\n",
    "print(\"X_test\", X_test.shape)\n",
    "print(\"Y_test\", Y_test.shape)"
   ]
  },
  {
   "cell_type": "code",
   "execution_count": 9,
   "metadata": {},
   "outputs": [
    {
     "data": {
      "text/html": [
       "<pre style=\"white-space:pre;overflow-x:auto;line-height:normal;font-family:Menlo,'DejaVu Sans Mono',consolas,'Courier New',monospace\"><span style=\"font-weight: bold\">Model: \"sequential_1\"</span>\n",
       "</pre>\n"
      ],
      "text/plain": [
       "\u001b[1mModel: \"sequential_1\"\u001b[0m\n"
      ]
     },
     "metadata": {},
     "output_type": "display_data"
    },
    {
     "data": {
      "text/html": [
       "<pre style=\"white-space:pre;overflow-x:auto;line-height:normal;font-family:Menlo,'DejaVu Sans Mono',consolas,'Courier New',monospace\">┏━━━━━━━━━━━━━━━━━━━━━━━━━━━━━━━━━┳━━━━━━━━━━━━━━━━━━━━━━━━┳━━━━━━━━━━━━━━━┓\n",
       "┃<span style=\"font-weight: bold\"> Layer (type)                    </span>┃<span style=\"font-weight: bold\"> Output Shape           </span>┃<span style=\"font-weight: bold\">       Param # </span>┃\n",
       "┡━━━━━━━━━━━━━━━━━━━━━━━━━━━━━━━━━╇━━━━━━━━━━━━━━━━━━━━━━━━╇━━━━━━━━━━━━━━━┩\n",
       "│ dense_3 (<span style=\"color: #0087ff; text-decoration-color: #0087ff\">Dense</span>)                 │ (<span style=\"color: #00d7ff; text-decoration-color: #00d7ff\">None</span>, <span style=\"color: #00af00; text-decoration-color: #00af00\">1000</span>)           │        <span style=\"color: #00af00; text-decoration-color: #00af00\">82,000</span> │\n",
       "├─────────────────────────────────┼────────────────────────┼───────────────┤\n",
       "│ dense_4 (<span style=\"color: #0087ff; text-decoration-color: #0087ff\">Dense</span>)                 │ (<span style=\"color: #00d7ff; text-decoration-color: #00d7ff\">None</span>, <span style=\"color: #00af00; text-decoration-color: #00af00\">500</span>)            │       <span style=\"color: #00af00; text-decoration-color: #00af00\">500,500</span> │\n",
       "├─────────────────────────────────┼────────────────────────┼───────────────┤\n",
       "│ dense_5 (<span style=\"color: #0087ff; text-decoration-color: #0087ff\">Dense</span>)                 │ (<span style=\"color: #00d7ff; text-decoration-color: #00d7ff\">None</span>, <span style=\"color: #00af00; text-decoration-color: #00af00\">81</span>)             │        <span style=\"color: #00af00; text-decoration-color: #00af00\">40,581</span> │\n",
       "└─────────────────────────────────┴────────────────────────┴───────────────┘\n",
       "</pre>\n"
      ],
      "text/plain": [
       "┏━━━━━━━━━━━━━━━━━━━━━━━━━━━━━━━━━┳━━━━━━━━━━━━━━━━━━━━━━━━┳━━━━━━━━━━━━━━━┓\n",
       "┃\u001b[1m \u001b[0m\u001b[1mLayer (type)                   \u001b[0m\u001b[1m \u001b[0m┃\u001b[1m \u001b[0m\u001b[1mOutput Shape          \u001b[0m\u001b[1m \u001b[0m┃\u001b[1m \u001b[0m\u001b[1m      Param #\u001b[0m\u001b[1m \u001b[0m┃\n",
       "┡━━━━━━━━━━━━━━━━━━━━━━━━━━━━━━━━━╇━━━━━━━━━━━━━━━━━━━━━━━━╇━━━━━━━━━━━━━━━┩\n",
       "│ dense_3 (\u001b[38;5;33mDense\u001b[0m)                 │ (\u001b[38;5;45mNone\u001b[0m, \u001b[38;5;34m1000\u001b[0m)           │        \u001b[38;5;34m82,000\u001b[0m │\n",
       "├─────────────────────────────────┼────────────────────────┼───────────────┤\n",
       "│ dense_4 (\u001b[38;5;33mDense\u001b[0m)                 │ (\u001b[38;5;45mNone\u001b[0m, \u001b[38;5;34m500\u001b[0m)            │       \u001b[38;5;34m500,500\u001b[0m │\n",
       "├─────────────────────────────────┼────────────────────────┼───────────────┤\n",
       "│ dense_5 (\u001b[38;5;33mDense\u001b[0m)                 │ (\u001b[38;5;45mNone\u001b[0m, \u001b[38;5;34m81\u001b[0m)             │        \u001b[38;5;34m40,581\u001b[0m │\n",
       "└─────────────────────────────────┴────────────────────────┴───────────────┘\n"
      ]
     },
     "metadata": {},
     "output_type": "display_data"
    },
    {
     "data": {
      "text/html": [
       "<pre style=\"white-space:pre;overflow-x:auto;line-height:normal;font-family:Menlo,'DejaVu Sans Mono',consolas,'Courier New',monospace\"><span style=\"font-weight: bold\"> Total params: </span><span style=\"color: #00af00; text-decoration-color: #00af00\">623,081</span> (2.38 MB)\n",
       "</pre>\n"
      ],
      "text/plain": [
       "\u001b[1m Total params: \u001b[0m\u001b[38;5;34m623,081\u001b[0m (2.38 MB)\n"
      ]
     },
     "metadata": {},
     "output_type": "display_data"
    },
    {
     "data": {
      "text/html": [
       "<pre style=\"white-space:pre;overflow-x:auto;line-height:normal;font-family:Menlo,'DejaVu Sans Mono',consolas,'Courier New',monospace\"><span style=\"font-weight: bold\"> Trainable params: </span><span style=\"color: #00af00; text-decoration-color: #00af00\">623,081</span> (2.38 MB)\n",
       "</pre>\n"
      ],
      "text/plain": [
       "\u001b[1m Trainable params: \u001b[0m\u001b[38;5;34m623,081\u001b[0m (2.38 MB)\n"
      ]
     },
     "metadata": {},
     "output_type": "display_data"
    },
    {
     "data": {
      "text/html": [
       "<pre style=\"white-space:pre;overflow-x:auto;line-height:normal;font-family:Menlo,'DejaVu Sans Mono',consolas,'Courier New',monospace\"><span style=\"font-weight: bold\"> Non-trainable params: </span><span style=\"color: #00af00; text-decoration-color: #00af00\">0</span> (0.00 B)\n",
       "</pre>\n"
      ],
      "text/plain": [
       "\u001b[1m Non-trainable params: \u001b[0m\u001b[38;5;34m0\u001b[0m (0.00 B)\n"
      ]
     },
     "metadata": {},
     "output_type": "display_data"
    },
    {
     "name": "stdout",
     "output_type": "stream",
     "text": [
      "Epoch 1/15\n",
      "\u001b[1m583/583\u001b[0m \u001b[32m━━━━━━━━━━━━━━━━━━━━\u001b[0m\u001b[37m\u001b[0m \u001b[1m5s\u001b[0m 7ms/step - accuracy: 0.0011 - loss: 0.1954 - val_accuracy: 0.0014 - val_loss: 0.0483\n",
      "Epoch 2/15\n",
      "\u001b[1m583/583\u001b[0m \u001b[32m━━━━━━━━━━━━━━━━━━━━\u001b[0m\u001b[37m\u001b[0m \u001b[1m1s\u001b[0m 2ms/step - accuracy: 0.0020 - loss: 0.0399 - val_accuracy: 0.0094 - val_loss: 0.0259\n",
      "Epoch 3/15\n",
      "\u001b[1m583/583\u001b[0m \u001b[32m━━━━━━━━━━━━━━━━━━━━\u001b[0m\u001b[37m\u001b[0m \u001b[1m1s\u001b[0m 2ms/step - accuracy: 0.0142 - loss: 0.0240 - val_accuracy: 0.0188 - val_loss: 0.0199\n",
      "Epoch 4/15\n",
      "\u001b[1m583/583\u001b[0m \u001b[32m━━━━━━━━━━━━━━━━━━━━\u001b[0m\u001b[37m\u001b[0m \u001b[1m1s\u001b[0m 2ms/step - accuracy: 0.0193 - loss: 0.0191 - val_accuracy: 0.0195 - val_loss: 0.0173\n",
      "Epoch 5/15\n",
      "\u001b[1m583/583\u001b[0m \u001b[32m━━━━━━━━━━━━━━━━━━━━\u001b[0m\u001b[37m\u001b[0m \u001b[1m1s\u001b[0m 2ms/step - accuracy: 0.0208 - loss: 0.0169 - val_accuracy: 0.0205 - val_loss: 0.0159\n",
      "Epoch 6/15\n",
      "\u001b[1m583/583\u001b[0m \u001b[32m━━━━━━━━━━━━━━━━━━━━\u001b[0m\u001b[37m\u001b[0m \u001b[1m1s\u001b[0m 2ms/step - accuracy: 0.0220 - loss: 0.0157 - val_accuracy: 0.0200 - val_loss: 0.0151\n",
      "Epoch 7/15\n",
      "\u001b[1m583/583\u001b[0m \u001b[32m━━━━━━━━━━━━━━━━━━━━\u001b[0m\u001b[37m\u001b[0m \u001b[1m1s\u001b[0m 2ms/step - accuracy: 0.0228 - loss: 0.0149 - val_accuracy: 0.0210 - val_loss: 0.0145\n",
      "Epoch 8/15\n",
      "\u001b[1m583/583\u001b[0m \u001b[32m━━━━━━━━━━━━━━━━━━━━\u001b[0m\u001b[37m\u001b[0m \u001b[1m3s\u001b[0m 5ms/step - accuracy: 0.0247 - loss: 0.0144 - val_accuracy: 0.0212 - val_loss: 0.0141\n",
      "Epoch 9/15\n",
      "\u001b[1m583/583\u001b[0m \u001b[32m━━━━━━━━━━━━━━━━━━━━\u001b[0m\u001b[37m\u001b[0m \u001b[1m1s\u001b[0m 2ms/step - accuracy: 0.0240 - loss: 0.0140 - val_accuracy: 0.0210 - val_loss: 0.0138\n",
      "Epoch 10/15\n",
      "\u001b[1m583/583\u001b[0m \u001b[32m━━━━━━━━━━━━━━━━━━━━\u001b[0m\u001b[37m\u001b[0m \u001b[1m1s\u001b[0m 2ms/step - accuracy: 0.0243 - loss: 0.0137 - val_accuracy: 0.0227 - val_loss: 0.0136\n",
      "Epoch 11/15\n",
      "\u001b[1m583/583\u001b[0m \u001b[32m━━━━━━━━━━━━━━━━━━━━\u001b[0m\u001b[37m\u001b[0m \u001b[1m1s\u001b[0m 2ms/step - accuracy: 0.0271 - loss: 0.0135 - val_accuracy: 0.0234 - val_loss: 0.0134\n",
      "Epoch 12/15\n",
      "\u001b[1m583/583\u001b[0m \u001b[32m━━━━━━━━━━━━━━━━━━━━\u001b[0m\u001b[37m\u001b[0m \u001b[1m1s\u001b[0m 2ms/step - accuracy: 0.0244 - loss: 0.0134 - val_accuracy: 0.0234 - val_loss: 0.0132\n",
      "Epoch 13/15\n",
      "\u001b[1m583/583\u001b[0m \u001b[32m━━━━━━━━━━━━━━━━━━━━\u001b[0m\u001b[37m\u001b[0m \u001b[1m1s\u001b[0m 2ms/step - accuracy: 0.0264 - loss: 0.0132 - val_accuracy: 0.0239 - val_loss: 0.0131\n",
      "Epoch 14/15\n",
      "\u001b[1m583/583\u001b[0m \u001b[32m━━━━━━━━━━━━━━━━━━━━\u001b[0m\u001b[37m\u001b[0m \u001b[1m1s\u001b[0m 2ms/step - accuracy: 0.0244 - loss: 0.0131 - val_accuracy: 0.0239 - val_loss: 0.0130\n",
      "Epoch 15/15\n",
      "\u001b[1m583/583\u001b[0m \u001b[32m━━━━━━━━━━━━━━━━━━━━\u001b[0m\u001b[37m\u001b[0m \u001b[1m1s\u001b[0m 2ms/step - accuracy: 0.0261 - loss: 0.0130 - val_accuracy: 0.0229 - val_loss: 0.0129\n",
      "Wall time: 24.661447 seconds\n",
      "Test loss: 0.012945256195962429\n",
      "Test accuracy: 0.02292471006512642\n"
     ]
    }
   ],
   "source": [
    "import numpy as np\n",
    "from keras.models import Sequential\n",
    "from keras.layers import Dense\n",
    "from keras.layers import Input\n",
    "import time\n",
    "\n",
    "model = Sequential()\n",
    "model.add(Input(shape=(board_size,)))\n",
    "model.add(Dense(1000, activation='sigmoid'))\n",
    "model.add(Dense(500, activation='sigmoid'))\n",
    "model.add(Dense(board_size, activation='sigmoid'))\n",
    "model.summary()\n",
    "\n",
    "model.compile(loss='mean_squared_error',\n",
    "              optimizer='sgd',\n",
    "              metrics=['accuracy'])\n",
    "\n",
    "# Record the start time\n",
    "start_time = time.time()\n",
    "model.fit(X_train, Y_train,\n",
    "          batch_size=64,\n",
    "          epochs=15,\n",
    "          verbose=1,\n",
    "          validation_data=(X_test, Y_test))\n",
    "# Record the end time\n",
    "end_time = time.time()\n",
    "# Calculate and display the wall time\n",
    "print(f\"Wall time: {end_time - start_time:.6f} seconds\")\n",
    "\n",
    "score = model.evaluate(X_test, Y_test, verbose=0)\n",
    "print('Test loss:', score[0])\n",
    "print('Test accuracy:', score[1])"
   ]
  },
  {
   "cell_type": "code",
   "execution_count": 11,
   "metadata": {},
   "outputs": [
    {
     "name": "stdout",
     "output_type": "stream",
     "text": [
      "\u001b[1m1/1\u001b[0m \u001b[32m━━━━━━━━━━━━━━━━━━━━\u001b[0m\u001b[37m\u001b[0m \u001b[1m0s\u001b[0m 21ms/step\n",
      "0.036 0.036 0.038 0.038 0.037 0.039 0.038 0.039 0.037\n",
      "0.036 0.040 0.041 0.042 0.041 0.041 0.041 0.040 0.038\n",
      "0.037 0.040 0.037 0.045 0.042 0.044 0.039 0.039 0.038\n",
      "0.038 0.043 0.043 0.045 0.043 0.043 0.042 0.040 0.038\n",
      "0.038 0.042 0.044 0.042 0.043 0.041 0.045 0.042 0.040\n",
      "0.038 0.042 0.044 0.045 0.045 0.044 0.043 0.042 0.037\n",
      "0.038 0.039 0.037 0.046 0.046 0.045 0.038 0.041 0.039\n",
      "0.037 0.040 0.040 0.042 0.042 0.041 0.038 0.037 0.038\n",
      "0.036 0.036 0.037 0.038 0.036 0.039 0.038 0.036 0.037\n"
     ]
    }
   ],
   "source": [
    "test_board = np.array([[\n",
    "    0, 0,  0,  0,  0, 0, 0, 0, 0,\n",
    "    0, 0,  0,  0,  0, 0, 0, 0, 0,\n",
    "    0, 0,  0,  0,  0, 0, 0, 0, 0,\n",
    "    0, 1, -1,  1, -1, 0, 0, 0, 0,\n",
    "    0, 1, -1,  1, -1, 0, 0, 0, 0,\n",
    "    0, 0,  1, -1,  0, 0, 0, 0, 0,\n",
    "    0, 0,  0,  0,  0, 0, 0, 0, 0,\n",
    "    0, 0,  0,  0,  0, 0, 0, 0, 0,\n",
    "    0, 0,  0,  0,  0, 0, 0, 0, 0,\n",
    "]])\n",
    "move_probs = model.predict(test_board)[0]\n",
    "i = 0\n",
    "for row in range(9):\n",
    "    row_formatted = []\n",
    "    for col in range(9):\n",
    "        row_formatted.append('{:.3f}'.format(move_probs[i]))\n",
    "        i += 1\n",
    "    print(' '.join(row_formatted))"
   ]
  },
  {
   "cell_type": "markdown",
   "metadata": {},
   "source": [
    "Starlight MacBook Air M2:\n",
    "> Wall time: 32.514940 seconds\n",
    "\n",
    "> Test loss: 0.012939339503645897\n",
    "> Test accuracy: 0.02292471006512642\n",
    "\n",
    "MacBookPro M1 Pro:\n",
    "> Wall time: 40.835932 seconds\n",
    "\n",
    "> Test loss: 0.01292334869503975\n",
    "> Test accuracy: 0.028233591467142105\n",
    "\n",
    "Seahawk Intel i7-4770 @ 3.4GHz AMD GPU:\n",
    "> Wall time: 52.658726 seconds\n",
    "\n",
    "> Test loss: 0.01294137816876173\n",
    "> Test accuracy: 0.027027027681469917\n",
    "\n",
    "Carbon AMD Rizen 7 2700 8-Core NVIDIA GeForce RTX 4080 SUPER:\n",
    "> Wall time: 24.661447 seconds\n",
    "\n",
    "> Test loss: 0.012945256195962429\n",
    "> Test accuracy: 0.02292471006512642"
   ]
  }
 ],
 "metadata": {
  "kernelspec": {
   "display_name": "Python 3",
   "language": "python",
   "name": "python3"
  },
  "language_info": {
   "codemirror_mode": {
    "name": "ipython",
    "version": 3
   },
   "file_extension": ".py",
   "mimetype": "text/x-python",
   "name": "python",
   "nbconvert_exporter": "python",
   "pygments_lexer": "ipython3",
   "version": "3.12.3"
  }
 },
 "nbformat": 4,
 "nbformat_minor": 2
}
